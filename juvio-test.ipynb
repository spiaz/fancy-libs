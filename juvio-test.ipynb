{
 "cells": [
  {
   "cell_type": "code",
   "execution_count": 1,
   "id": "bdbed8a3-2107-47b4-ab3a-ffc8b6ecfcb2",
   "metadata": {},
   "outputs": [],
   "source": [
    "a = 1\n"
   ]
  },
  {
   "cell_type": "code",
   "execution_count": 2,
   "id": "3323f0a9-1d6d-4816-9efc-0f70b5ec04a8",
   "metadata": {},
   "outputs": [
    {
     "data": {
      "text/plain": [
       "1"
      ]
     },
     "execution_count": 2,
     "metadata": {},
     "output_type": "execute_result"
    }
   ],
   "source": [
    "a"
   ]
  },
  {
   "cell_type": "code",
   "execution_count": 3,
   "id": "c384b615-5a70-498a-afb0-e230d280009b",
   "metadata": {},
   "outputs": [
    {
     "name": "stderr",
     "output_type": "stream",
     "text": [
      "\u001b[2mAudited \u001b[1m1 package\u001b[0m \u001b[2min 2ms\u001b[0m\u001b[0m\n"
     ]
    }
   ],
   "source": [
    "%juvio install pandas"
   ]
  },
  {
   "cell_type": "code",
   "execution_count": 4,
   "id": "40eb9561-a0c6-4750-8314-a9e4142489f5",
   "metadata": {},
   "outputs": [],
   "source": [
    "import pandas as pd\n",
    "\n",
    "df = pd.DataFrame({\"a\": range(10)})"
   ]
  },
  {
   "cell_type": "code",
   "execution_count": null,
   "id": "bbcb38bf-ed98-4eab-bb72-4ecf0aad1bc0",
   "metadata": {},
   "outputs": [],
   "source": []
  }
 ],
 "metadata": {
  "kernelspec": {
   "display_name": "Juvio",
   "language": "python",
   "name": "juvio"
  },
  "language_info": {
   "codemirror_mode": {
    "name": "ipython",
    "version": 3
   },
   "file_extension": ".py",
   "mimetype": "text/x-python",
   "name": "python",
   "nbconvert_exporter": "python",
   "pygments_lexer": "ipython3",
   "version": "3.13.3"
  }
 },
 "nbformat": 4,
 "nbformat_minor": 5
}
